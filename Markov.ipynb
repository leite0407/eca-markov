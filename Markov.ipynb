{
 "cells": [
  {
   "cell_type": "markdown",
   "metadata": {},
   "source": [
    "# Markov Chains - O que são e aplicações à geração de texto\n",
    "\n",
    "## O que é uma Markov Chain?\n",
    "\n",
    "Pela definição da wikipédia, uma *Markov chain* é\n",
    "\n",
    "> Um modelo estocástico que descreve uma sequência de possíveis eventos em que a probabilidade de cada evento depende apenas do estado alcançado no evento anterior.\n",
    "\n",
    "Um exemplo disto é um jogo de sorte, em que dois jogadores jogam várias rondas sucessivas. Se quisermos calcular as probabilidades de após mais uma ronda o jogo ficar com um determinado resultado precisamos apenas de saber qual o resultado atual, em nada interessa como chegámos a este resultado. (ex: se após uma ronda o jogo estiver 3-2, a probabilidade de após uma outra ronda o resultado ficar 3-3 será sempre 0.5 e de ficar 4-2 será também 0.5, em nada interessa se antes da última ronda jogada o resultado era 3-1 ou 2-2).\n",
    "\n",
    "Podemos então dizer matemáticamente que:\n",
    "\n",
    "$$ P(X_{k+1} | X_k, X_{k-1}, ..., X_1) = P(X_{k+1} | X_k) $$\n",
    "\n",
    "Ou seja, dada uma sequência de $k$ estados, ($X_1, X_2, ..., X_k$), a probabilidade de alcançarmos após mais um evento um determinado estado $X_{k+1}$ depende apenas do estado actual, $X_k$.\n",
    "\n",
    "\n",
    "\n",
    "## Como podemos usá-las para gerar texto?\n",
    "\n",
    "Vamos assumir que o processo de escrita também segue esta lógica, isto é, que a palavra que vamos escrever a seguir depende apenas das $n$ palavras escritas antes. Temos então de calcular para cada palavra qual a probabilidade de esta aparacer imediatamente a seguir a cada conjunto de $n$ palavras. Fazê-lo é muito simples, vamos pegar em texto e contar quantas vezes cada palavra aparece depois de cada conjunto de $n$ palavras. Depois, com esta informação, vamos simular o processo de escrita, começamos com um conjunto de $n$ palavras e baseando-nos nas probabilidades que calculámos geramos a próxima palavra, repetimos isto as vezes necessárias para gerar um texto com o tamanho que quisermos.\n",
    "\n",
    "Claro que isto não é de todo um bom modelo daquilo que é o processo de escrita, é melhor que um macaco a bater num teclado, mas no fundo é mais ou menos equivalente a um analfabeto a fazer corte e colagem com as páginas de um livro. Mas já vamos ver que resultados obtemos.\n",
    "\n",
    "\n",
    "\n",
    "## Fontes\n",
    "\n",
    "#### Eça de Queirós\n",
    "Por razões que me ultrapassam, o departamento de **Física** da Universidade de Coimbra tem no seu site a obra completa de Eça de Queiroz em formato html (http://figaro.fis.uc.pt/queiros/lista_obras.html).\n",
    "\n",
    "Estes textos foram posteriormente convertidos para .txt, ficheiros esses que estão agora hospedados num Dataset do Kaggle (https://www.kaggle.com/leite0407/ea-de-queiroz/)."
   ]
  },
  {
   "cell_type": "code",
   "execution_count": 1,
   "metadata": {},
   "outputs": [],
   "source": [
    "import random\n",
    "import os\n",
    "\n",
    "import nltk"
   ]
  },
  {
   "cell_type": "markdown",
   "metadata": {},
   "source": [
    "## Implementação\n",
    "\n",
    "Temos duas tarefas:\n",
    "* Contar num dado texto quantas vezes cada palavra aparece depois de um dado conjunto de $n$ palavras e guardar esta informação;\n",
    "* Gerar texto com base na informação obtida.\n",
    "\n",
    "#### Markov.train()\n",
    "Para tornar esta implementação o mais abrangente possível, vamos aceitar como input uma lista. Assim, podemos criar uma cadeia com base em qualquer sequência de coisas, não necessariamente palavras. Daí no código (e na explicação daqui para a frente) os elementos desta lista serem designados tokens.\n",
    "\n",
    "Para armazenar a informação vamos usar um dict em que cada conjunto de $n$ tokens vai estar associado a uma lista que contém todas os tokens que no texto vimos aparecer depois desse conjunto. Se virmos um dado token aparecer mais do que uma vez depois de um conjunto, vamos simplesmente adicioná-lo mais do que uma vez a esta lista.\n",
    "\n",
    "Iteramos então pela lista de tokens e guardamos a informação em *markov_dict*.\n",
    "\n",
    "#### Markov.generate_next_token()\n",
    "Dado um conjunto de $n$ tokens, retorna aleatoriamente um token da lista associada ao conjunto.\n",
    "\n",
    "#### Markov.generate_sequence()\n",
    "Dada um conjunto de $n$ tokens por onde começar a sequência, gera uma sequência de *length* tokens, invocando a cada passo *generate_next_token()*."
   ]
  },
  {
   "cell_type": "code",
   "execution_count": 2,
   "metadata": {},
   "outputs": [],
   "source": [
    "class Markov:\n",
    "    \n",
    "    def __init__(self, n=1):\n",
    "        \n",
    "        self.n = n\n",
    "        self.markov_dict = {}\n",
    "    \n",
    "    def train(self, tokens):\n",
    "        ''' Conta quantas vezes cada token aparece à frente de cada conjunto de n tokens'''\n",
    "\n",
    "        # Itera sobre tokens\n",
    "        for i in range(self.n, len(tokens)):\n",
    "            \n",
    "            # Tuple com últimos n tokens\n",
    "            past_tokens = tuple(tokens[i - self.n : i])\n",
    "            \n",
    "            # Verifica se past_tokens já existe no markov_dict\n",
    "            if past_tokens not in self.markov_dict.keys():\n",
    "                # Se não, incializa-o como sendo uma lista cujo único elemento é o token atual\n",
    "                self.markov_dict[past_tokens] = [tokens[i]]\n",
    "                \n",
    "            else:\n",
    "                # Se sim, apende o token atual à lista\n",
    "                self.markov_dict[past_tokens].append(tokens[i])\n",
    "    \n",
    "    \n",
    "    def generate_next_token(self, past_tokens):\n",
    "        ''' Escolhe aleatoriamente um token de markov_dict[token_set] '''\n",
    "        \n",
    "        random_index = random.randint(0, len(self.markov_dict[past_tokens])-1)\n",
    "        \n",
    "        return self.markov_dict[past_tokens][random_index]\n",
    "    \n",
    "    def generate_sequence(self, start_tuple='random', length=20):\n",
    "        \n",
    "        if start_tuple == 'random':\n",
    "            start_tuple =  list(self.markov_dict.keys())[random.randint(0, len(self.markov_dict.keys()) - 1)]\n",
    "        \n",
    "        results = list(start_tuple)\n",
    "        \n",
    "        for i in range(self.n, length):\n",
    "            \n",
    "            results.append(self.generate_next_token(tuple(results[i - self.n : i])))\n",
    "        \n",
    "        return results     "
   ]
  },
  {
   "cell_type": "markdown",
   "metadata": {},
   "source": [
    "## Aplicações\n",
    "\n",
    "### Eça de Queirós\n",
    "Vamos então testar o que implementámos. Vamos começar por criar algumas cadeias com base na Obra Completa de Eça de Queirós."
   ]
  },
  {
   "cell_type": "code",
   "execution_count": 6,
   "metadata": {},
   "outputs": [
    {
     "name": "stdout",
     "output_type": "stream",
     "text": [
      "['cartas_familiares.txt', 'cronicas_de_londres.txt', 'a_reliquia.txt', 'os_maias.txt', 'o_mandarim.txt', 'a_capital.txt', 'prosas_barbaras.txt', 'uma_campanha_alegre_II.txt', 'a_cidade_e_as_serras.txt', 'o_crime_do_padre_amaro.txt', 'contos.txt', 'cartas_de_inglaterra.txt', 'as_minas_de_salomao.txt', 'o_misterio_da_estrada_de_sintra.txt', 'uma_campanha_alegre_I.txt', 'a_ilustre_casa_de_ramires.txt', 'ecos_de_paris.txt', 'alves_e_ca.txt', 'o_conde_de_abranhos.txt', 'ultimas_paginas.txt', 'o_primo_basilio.txt']\n"
     ]
    }
   ],
   "source": [
    "obras = os.listdir('Eca/txt/')\n",
    "\n",
    "print(obras)"
   ]
  },
  {
   "cell_type": "markdown",
   "metadata": {},
   "source": [
    "Temos a obra completa do Eça, cada livro num ficheiro txt. Vamos juntar tudo na mesma string e separar esta string em tokens.\n",
    "\n",
    "Não digo que vamos separar a string em palavras porque um token tanto pode ser uma palavra como um elemento de pontuação.\n",
    "Por exemplo:"
   ]
  },
  {
   "cell_type": "code",
   "execution_count": 11,
   "metadata": {},
   "outputs": [
    {
     "data": {
      "text/plain": [
       "['-', 'Falhamos', 'a', 'vida', ',', 'menino', '!']"
      ]
     },
     "execution_count": 11,
     "metadata": {},
     "output_type": "execute_result"
    }
   ],
   "source": [
    "nltk.word_tokenize('- Falhamos a vida, menino!')"
   ]
  },
  {
   "cell_type": "markdown",
   "metadata": {},
   "source": [
    "A cadeia vai tratar um ponto ou uma virgula exatamente da mesma maneira que trata uma palavra, pelo que ao gerar texto também vai colocar pontuação.\n",
    "\n",
    "Vamos começar por criar uma cadeia com $n = 1$. Para este caso, o texto é gerado tendo em consideração na escolha do próximo token apenas o token imediatamente anterior.\n",
    "\n",
    "(PS - Falhamos a vida! é uma quote d'Os Maias)"
   ]
  },
  {
   "cell_type": "code",
   "execution_count": 14,
   "metadata": {},
   "outputs": [],
   "source": [
    "eca_str = ''\n",
    "for obra in obras:\n",
    "    eca_str = eca_str + open('Eca/txt/' + obra).read()\n",
    "    \n",
    "eca_tokens = nltk.word_tokenize(eca_str)\n",
    "\n",
    "eca_markov = Markov(1)\n",
    "\n",
    "eca_markov.train(eca_tokens)"
   ]
  },
  {
   "cell_type": "code",
   "execution_count": 93,
   "metadata": {},
   "outputs": [
    {
     "name": "stdout",
     "output_type": "stream",
     "text": [
      "A seda preta , uma coisa esborrachada , a sua fortuna , onde o jardim . — confirmou o Carvalho . — Quem vier.. , foi o melhor o meio da francesa ofertado ao ser à janela — perguntou : – ficasse gravado no mesmo com que nesse mesmo ajudara culpadamente a voz , vejam que faculdade - Esta ideia de luvas claras etilintantes de repes verde , como Alexandre chamou , cópias das casas de santos seus interesses do Pedrinho , ululando sinistramente , do Templo – Nas janelas alumiadas , as feições de graça será condenado em costa de jacinto . Uma desgraça ... Carlos , deu um café , em que na Igreja de alegria que estava embaixo na manga de morrer ... O que ele compra va sos ; poderiam acomodar-se , diante da cozinha , de espírito de caravanas . E nos dias que as festas de lhe curava todos pareciam querer deste livro de Israel está , lancei -me tão cheio de constituir a conter a derrota ? ... Além disso a margarida caírem , legitima ? ... - Pois olhe que possuía um momentona mão , não houve quem procurava nelas , investiam\n"
     ]
    }
   ],
   "source": [
    "sequence = eca_markov.generate_sequence(tuple(['A']), 200)\n",
    "\n",
    "print(' '.join(sequence))"
   ]
  },
  {
   "cell_type": "markdown",
   "metadata": {},
   "source": [
    "Não faz absolutamente sentido nenhum! Como a cadeia apenas toma em consideração o token imediatamente anterior, se isolarmos quaisquer 2 tokens contíguos, eles fazem sentido entre si, mas o token que vem a seguir a este par não faz necessariamente sentido com o primeiro token.\n",
    "\n",
    "Vamos então tentar usar uma cadeia com $n = 3$, assim temos a certeza que quaisquer 4 tokens contiguos vão fazer sentido uns com os outros."
   ]
  },
  {
   "cell_type": "code",
   "execution_count": 30,
   "metadata": {},
   "outputs": [],
   "source": [
    "eca_markov_3 = Markov(3)\n",
    "\n",
    "eca_markov_3.train(eca_tokens)"
   ]
  },
  {
   "cell_type": "code",
   "execution_count": 90,
   "metadata": {},
   "outputs": [
    {
     "name": "stdout",
     "output_type": "stream",
     "text": [
      "A casa que os Maias vieram habitar em Lisboa , ainda conservava os antigos hábitos severamente encerrados ; ou por imposição paternal do marido , a horas lôbregas . S. Exª foi duas vezes regente ; assinou proclamações , decretos , sentenças ; constituiu ministérios ; interveio na política do seu país como um livro de ciência , ninguém mais se ocupara de fazer uma defesa que ecoará em toda a sua dedicação . Ela deixara-se cair sobre uma cadeira ao chão com um pontapé e estendeu-se sobre a cama , ou ço em cadanoite , ora por caminhos claros que soavam como lajes , ora sob a ramaria do carvalho de S. Froalengo , abrigava no sábado mais negro de janeiro , metido num portal da Rua de S. Roque . Apanharam-no ao pé de um altar , bradou : — Caramba ! Isso é uma hecatombe ! - Você está ali como um Deus antigo . Cravaste-lhe no seio as sete dores . Coube-lhe a dor e o escárnio . É necessário nesta vida um bocado de azul lavado e lustroso ; e a pobre velha à porta , numa efusão de simpatia : - Ora aí tens\n"
     ]
    }
   ],
   "source": [
    "sequence = eca_markov_3.generate_sequence(tuple(['A', 'casa', 'que']), 200)\n",
    "\n",
    "print(' '.join(sequence))"
   ]
  },
  {
   "cell_type": "markdown",
   "metadata": {},
   "source": [
    "O problema de se usar um $n$ muito grande é que as vezes que uma expressão com tamanho $n$ aparece no texto diminui exponencialmente à medida que $n$ aumenta. Vamos analisar:"
   ]
  },
  {
   "cell_type": "code",
   "execution_count": 64,
   "metadata": {},
   "outputs": [
    {
     "name": "stdout",
     "output_type": "stream",
     "text": [
      "Número médio de ocorrências de cada expressão de tamanho n = 1:  43.55747770358087\n",
      "Número médio de ocorrências de cada expressão de tamanho n = 3:  1.3482119386276605\n"
     ]
    }
   ],
   "source": [
    "total = 0\n",
    "count = 0\n",
    "for key in eca_markov.markov_dict.keys():\n",
    "    total += len(eca_markov.markov_dict[key])\n",
    "    count += 1\n",
    "    \n",
    "print('Número médio de ocorrências de cada expressão de tamanho n = 1: ', total/count)\n",
    "\n",
    "total = 0\n",
    "count = 0\n",
    "for key in eca_markov_3.markov_dict.keys():\n",
    "    total += len(eca_markov_3.markov_dict[key])\n",
    "    count += 1\n",
    "    \n",
    "print('Número médio de ocorrências de cada expressão de tamanho n = 3: ', total/count)"
   ]
  },
  {
   "cell_type": "markdown",
   "metadata": {},
   "source": [
    "Ou seja, em média, cada palavra (expressão de tamanho $n = 1$) aparece no texto 43.6 vezes, enquanto que cada expressão de tamaho $n = 3$ aparece em média 1.4 vezes.\n",
    "\n",
    "Logo, ao gerarmos texto com a cadeia de $n = 3$ muitas vezes quando sorteamos a palavra seguinte só há uma hipótese, porque a combinação das últimas 3 palavras que vimos apenas aparece no texto 1 vez, pelo que, em vez de gerarmos novo texto, acabamos por quase citar o original.\n",
    "\n",
    "Para comprovar isto, vamos experimentar construir uma cadeia com $n = 6$"
   ]
  },
  {
   "cell_type": "code",
   "execution_count": 65,
   "metadata": {},
   "outputs": [],
   "source": [
    "eca_markov_6 = Markov(6)\n",
    "\n",
    "eca_markov_6.train(eca_tokens)"
   ]
  },
  {
   "cell_type": "code",
   "execution_count": 68,
   "metadata": {},
   "outputs": [
    {
     "data": {
      "text/plain": [
       "'A casa que os Maias vieram habitar em Lisboa , no outono de 1875 , era conhecida na vizinhança da rua de S. Francisco de Paula , e em todo o bairro das Janelas Verdes , pela casa do Ramalhete ou simplesmente o Ramalhete . Apesar deste fresco nome de vivenda campestre , o Ramalhete , sombrio casarão de paredes severas , com um renque de estreitas varandas de ferro no primeiro andar , e por cima uma tímida fila de janelinhas abrigadas à beira do telhado , tinha o aspecto tristonho de Residência Eclesiástica que competia a uma edificação do reinado da Sr.ª D. Maria I : com uma sineta e com uma cruz no topo assimilar-se-ia a um Colégio de Jesuítas . O nome de Ramalhete provinha de certo dum revestimento quadrado de azulejos fazendo painel no lugar heráldico do Escudo de Armas , que nunca chegara a ser colocado , e representando um grande ramo de girassóis atado por uma fita onde se distinguiam letras e números duma data . Longos anos o Ramalhete permanecera desabitado , com teias de aranha pelas grades dos postigos térreos , e cobrindo-se de tons de ruína . Em 1858 Monsenhor'"
      ]
     },
     "execution_count": 68,
     "metadata": {},
     "output_type": "execute_result"
    }
   ],
   "source": [
    "sequence = eca_markov_6.generate_sequence(tuple(['A', 'casa', 'que', 'os', 'Maias', 'vieram']), 200)\n",
    "\n",
    "' '.join(sequence)"
   ]
  },
  {
   "cell_type": "markdown",
   "metadata": {},
   "source": [
    "E o texto *'gerado'* é exatamente o famoso parágrafo inicial d'Os Maias!\n",
    "\n",
    "Vamos agora experimentar uma coisa diferente. Em vez de construirmos a cadeia com base em palavras, vamos construí-la caractér a caractér. A cadeia vai funcionar exatamente da mesma maneira, só que em vez de escolher a próxima palavra com base nas $n$ anteriores, vai escolher o próximo *caractér* com base nos $n$ anteriores. Vamos começar com uma cadeia com $n = 1$ para ver o que acontece."
   ]
  },
  {
   "cell_type": "code",
   "execution_count": 70,
   "metadata": {},
   "outputs": [],
   "source": [
    "eca_letras = list(eca_str)\n",
    "\n",
    "eca_letras_markov = Markov(1)"
   ]
  },
  {
   "cell_type": "code",
   "execution_count": 71,
   "metadata": {},
   "outputs": [],
   "source": [
    "eca_letras_markov.train(eca_letras)"
   ]
  },
  {
   "cell_type": "code",
   "execution_count": 76,
   "metadata": {},
   "outputs": [
    {
     "name": "stdout",
     "output_type": "stream",
     "text": [
      "Alho loro era oue 58 e broma da Não ás Estos He da ma. ria e – puma da ore Teplel sta Nãosói ja he tera b al, deziseleiarenão, co ro domamavo pa ujuresti osto tidmpo dra ranágortadantetrenses s pra.\n",
      "Nil vaqu lto E Estumpo perarrcim coue rarrs, ra o feza Dinos cêsa. quanu pla os fe te, telvenhas codono jano rbo caltãoco obaqua nge, arês ouca Um heriarinãola Sa dalimema entamade, ntatas às a, Tico o liasmãoleimardus aronfare, sti lialiandasto!\n",
      "s edas aina umpe, ogirrralto e nda s, atáramédelherado em da lgrfirare,\n",
      "A lora elhe honde cossadadraro-lvauaspa pe Tr púvesconape as Prue murasis nco? Sa Não pevicentuina idos O ichefomolhos decasa tintues entumeizens, Barachiarona nfra de andencoamo. lhanapos, demugubras. ta endoroseixca cidamias, cuices ar esença à venuíto, s Cra ebratule ra ue e-lua amecoe MÍnça o rinaprdana co idos, émubra, démpasseico tradordo opo co. ficomo uertinana\n",
      "\t-lares mo pe mes m emo e a cher laguiãomus citi. rimo-desemevaveipe dinos e samorto laco à ve onantrgomam mem\n"
     ]
    }
   ],
   "source": [
    "print(''.join(eca_letras_markov.generate_sequence(list('A'), 1000)))"
   ]
  },
  {
   "cell_type": "markdown",
   "metadata": {},
   "source": [
    "Parece que a cadeia está a produzir coisas que até em alguns casos se parecem com palavras, há pelo menos uma sucessão de consoantes e vogais a formar sílabas, mas que não têm sentido absolutamente nenhum. Isto, claro, porque a cadeia, quando escolhe o próximo caractér, está apenas a ter em consideração o imediatamente anterior.\n",
    "\n",
    "Vamos então tentar com outros valores de $n$"
   ]
  },
  {
   "cell_type": "code",
   "execution_count": 85,
   "metadata": {},
   "outputs": [
    {
     "name": "stdout",
     "output_type": "stream",
     "text": [
      "n =  2 \n",
      "\n",
      "A confir to à sapazito o desta! O que\n",
      "pia-menstas mararo, suastária de que falto a de; e a das vesa, camem, quecente um fente apro, àquem Lubia, que a recesfacerrem nom re, acidame a e tão cal, aque a seu compor, pro, pé, ar arraçanua venspe, turosofeitame Cha, que Pros lacheiante cor um do va-ses,\n",
      "que mentá? -SEADE num aus petanegas.\n",
      "Olita dinevelasa, feiado quizerecuros:\n",
      "- Na apa e oseus urinhomo retoceiamenrança\". Coi Pôs mulha e o aque enhom só: mos aistónip! Adeque ou pindos parrenvese ta, com las quelêncietito delego excentam pazo, a pervo, dices mo exarassou carbalva em, socas condado! heio! — Maramembém?\n",
      "Conós adadonde – Stei, pera erira trade atracorem arra em orde, que afé dendo, essuanta peraça sesor, infaliz repo!\n",
      "\n",
      "— Pindo do se –\n",
      "A rés visparedressolearande moita, marrespareganteirrionárias cam-sestronso: dúlito che sente se o ladomo de, os houva seias papros sos fazempedontens dormo, Galém-serourmaio, algorpricavamanteriamonte, idademas o bêbente fa, quem um essatina voetórita der obrelherinha-seu a\n",
      "Que a umalimenral te algues..»\n",
      "– Viernas re é do únitode falvoz esa vivel, um retri, peca gral ruião braçõesso a comostita servintes e frade\n",
      "boa.. O nas, olhão, o malto deladas moras e exclas de ana ma faiu de a – estão ficatavra não faziarsobressulo, tar, mas.. Artadenhadavido o os exim, em comoço nocrio deité vero al nastáves, reir uma depalmescontrocitufria vereatim gerto ta!..... Eu o é não, queusté pois encimera, ra sento os reto embra mão quelos, chios das o a  \n",
      "\n",
      "\n",
      "\n",
      "n =  5 \n",
      "\n",
      "A casaca azul. E pelas severas da Silveira. E a rainha, a sua filho... Nem nos Crespondeu... Vamo-nos padre Natura – num estatura havia de verdade, menino! Gonçalo um rocha, a progressou o Teatro. Esse por ma agitou a nossas plantar; o anarquivou os olmos amigos trompanhar.\n",
      "Que esvoaçavam uma ilimitações (muito por vedar um vaporizavam num penou com que lhe aumentalara e pelo corações eram subscreveu, rolaramente, paredes, toda arroz e as suas ideias. E, mais negra do Ginásio.\n",
      "E daí a honra cobardia a legitima doença; vestidos pelo fogão aparecia as conferência do dramaturgos! De onde o de de Mac-Gren, que se escandalhas mãos contava dez e de agravou esses letra de reforma!\n",
      "\n",
      "Um dia, maldições tem. Veio logo de mimosa da Igreja. Depois de não convento que o Santa Malta, a para ir dá-lhe ainda serenamente a todo o fundo do seu coração iludi-lhe um\n",
      "indiferencia de licidade!\n",
      "- Creio e de D. Luísa é a monarquismo – era palavras, tão vai venha três desejavam a sua obra e invalidos coração descia ponta dizer que nele uma luz que, no selim:- Falavam, foi num silências de manuscritório, reflexos deve vergarida.\n",
      "A Câmara de veio a toda a jantarem-me a França dos Dois a portinho dos seus olhos não que queixo sebes. Não totalmente o nas cinzentas do injustifi que, para o Gavião, para aconsfield, Endymion, na roca durante ouviu uma teve por de arte quentes.\n",
      "\t\t\t- Tudo para de pão porém já não há nela da sua Leopoldina. Mas lodo. É uma paterna a criadas.\n",
      "Porém reserva curiosa de couro. Não  \n",
      "\n",
      "\n",
      "\n",
      "n =  8 \n",
      "\n",
      "A casa que se erguiam estátuas que convinha, caminhos de tâmaras. O ministração do curto e servir e preferia touros tresmalhada, voltou, pendurada languidamente um mal tão povoadas da mula o Bastardo,pelo lustre deputados, erguendo-se para a turba humana, sem ruído, e duas rosas! — disse Luísa.\n",
      "— Ela às vezes parecia ligada na aflição esparsamente a luva, o perfumava, a sua mantilha e de novo direito à Sé. Fechou-se diante da honesta. Não dormia, com uma neta perdido no fundo da ramagem, apenas ele lhes apareceu, mal embrulhadas diante daquele fascina a humanidade, tinha de ele se portou com detalhes... Estão aqui é rico... Um suspiros líricos e os pares.–Corre que, nessa noite, pela Câmara, melancolia, pinguinhas de classicismo e pelos quintais tinham prodigiosas violência pareceu um pé sobre o capitão John, lembrou-lhe a intitulado o Batalhão\n",
      "Sagrado.\n",
      "XXVII\n",
      "Agosto 1871.\n",
      "Uma vez que vejo é que eu sou engenhoso, fez uma virtude da Titi abrisse um dia passo cadencia - quando viu a importância de coisa tem febre. Jorge aqui em cárcere ou de uma batalha com os braços, coroavam-se como se nada havia terror de caleche passagem começou a falar a qualquer coisa, a reconstruidote, mas com a lua nova, e uma voz lamen tável -, e do dispêndio incalculáveis recurvas, à moda amável trabalhos, nem mesmo berro vitorioso, que reproduzem: o drama na sua questão de flanela. Esta exaltara a Liberdade da noite, cabecear\n",
      "com sono. O redactor, que coçava a bandeja do chá, as passaram os Jacques fi \n",
      "\n",
      "\n",
      "\n",
      "n =  11 \n",
      "\n",
      "A casa que o hospedam disseram-me que o Rabi de Galiléia chegava, no seu colete. Ao lado um burro pela arreata um burro carregado de pipas. Para além dos senhores missionário; – que os maus humores se lhe emperravam. E teria de possuir o facto real, autêntico, referendado. Somente não se aceita o lucro. Quantas maravilhosa, onde\n",
      "vive a Morte, onde jazem as suas tabuletas verticais do papel para o lado, ao comprido do mastro. Deu duas voltas e com olhares de luas. Para baixo nem sei serealmente expansivo, lhe falara tanto a inteligência dos Arcos. Mas foi ele que o pequeno centro de luxo, mais certas, e melhoraproximar-se dos lábios.\n",
      "- Com franqueza... Cinco libras que\n",
      "lhe devia, ao menos o que somos, porque vêem que a política, lhe chamem déspota e um D. João, e que Deus aparecia, entre estofos, o cadáver embalsamados no seu coração. A ambos pedira para estas sábias medidas a Artur.\n",
      "\n",
      "A explicação desta pelintrice oficial. Mas estou furioso:\n",
      "\n",
      "— Leve tudo! Leve com os diabos! tomam-nos por impostores...\n",
      "E como o caixeiro sugeriu-me com doçura e magnanimidade.\n",
      " \n",
      "Tudo isto traz o palácio numa atroz irritação — como escancelado sarcasmo. Sócrates inspirado pelo mar incerto; ou ainda desoladamente à cadeira, cerrando os olhos, como um bicho entre flores, onde os trinta e nove milhões e tirei o meu leito, e sobre os factos, mas já, de restaurar a autoridades, constituía uma injúria pessoal, tolerando para o zulu:\n",
      "– É\n",
      "para as\n",
      "montanhas, cobertas de diamante, e eu ia subir a vasta esc \n",
      "\n",
      "\n",
      "\n",
      "n =  14 \n",
      "\n",
      "A casa que os Maias, com o Ramalhete inabitável, não possuíam agora uma casa em obras, onde se resolveu pedir auxílio à Inglaterra; e não é fácil enganar-se por este modo à sociedade em que tal morte é possível, há naturalmente como se aquele fosse o seu fim sobre a Terra. Já havia moscas para pousar\n",
      "no nariz\n",
      "de Adão. O derradeiro homem nas ruínas dum mundo.\n",
      "Mas era tarde, ia-se agasalhar, recolher o gado esfalfado.\n",
      "- Excelente! Então, meu caro Gonçalo, sossega, e almocemos regaladamente o perfume do papel.\n",
      "Era datada desse mesmo dia dos funerais.\n",
      "Não há obras interrompidas, truncadas, que eu supunha a Razão. Que peleja contra aquilo que eu supunha a Tolice.\n",
      "Aí vão pois as minhas FARPAS, a que eu dou agora o nome único que as define e as páginas de paixão, com manchas leprosas de tojo negro, e a espaços furado por uma parelha cor decastanha. O cocheiro, sem libré, estava em pé, de costas para nós, estava perto do valado, do outro lado da\n",
      "estação onde o esperava o char-à-bancs\n",
      "parou à porta do Hotel Central.\n",
      "Depois de Santa Apolónia, ele disse-lhes na carruagem, Jorge, passando-lhe as mãos, como para acolher, estreitar, o Universo sofredor. Onde havia aí agora chaga que ele não fosse um homem livre seria um marido tão bom! Amorável, delicado, dengueiro, sempre de joelhos, salgando a nódoa: — Ai! Nossa Senhora das Dores, que até pode cair um raio!\n",
      "E, vendo mesmo Amélia indignada, o padre Amaro disse gravemente:\n",
      "- Há três anos que te não vejo, Jacinto... Estou ainda enfarpelado  \n",
      "\n",
      "\n",
      "\n",
      "n =  17 \n",
      "\n",
      "A casa que os Maias vieram habitar em Lisboa, no outono de 1875, que Afonso se resolveu enfim a deixar Santa Olavia e vir instalar-se no Ramalhete. Havia vinte e cinco anos, casada há quatro, deve sa ber que se nãorecebe todos os dias uma rapariga bem-educada, e bonita, com doze mil cruzados de renda.\n",
      " \n",
      "Foram passar a lua de mel para a casa de Carlota.\n",
      "Demorou-se lá até às quatro horas. A cozinheira saiu, e Juliana pôs-se a passar a noite com os Amados. Aceitou. Foi uma soirée íntima grave, um pouco silenciosa, edificante. Alípio falou da sua excelente tia, da sua caridade – e da caridade dos Noronhas. Contou a maravilha de um velho, ao pé de Penafiel, que vivia havia vinte anos em estado de graça; narrou anedotas piedosas de Fr. Bartolomeu dos Mártires que, no meio das nossas discussões, e não a abrigamos sob os nossos entusiasmos, ela ficou como abandonada e sem defesa contra a morte. Os pajens, mais pálidos que a cera, amolecidos pelos anos de paz, sem educação guerreira, faziam diante das mulheres uma sebe de espadas – espadas cujas pontas tremiam. O capelão rezava de bruços. E o arquivista estendia os braços para o céu. Por que não vinha o Senhor?\n",
      "As terras que Cristóvão atravessou o acampamento.\n",
      "Como os bandos cada dia recrutavam novos tunos, ou aprisionavam servos, ninguém estranhava a sua presença\"! Passava já o tempo preparando explicações, respostas hábeis, lisonjas a sua excelência. Não se esqueça – às sete – e guarde-me o segredo, amigo.\n",
      "Padre Augusto foi ao cabid \n",
      "\n",
      "\n",
      "\n"
     ]
    }
   ],
   "source": [
    "start_list = list('A casa que os Maias vieram')\n",
    "\n",
    "for i in range(2, 20, 3):\n",
    "    \n",
    "    eca_letras_markov_i = Markov(i)\n",
    "    eca_letras_markov_i.train(eca_letras)\n",
    "    \n",
    "    print('n = ', i, '\\n')\n",
    "    \n",
    "    print(''.join(eca_letras_markov_i.generate_sequence(start_list[:i], 1500)), '\\n\\n\\n')\n",
    "    "
   ]
  },
  {
   "cell_type": "markdown",
   "metadata": {},
   "source": [
    "Para $n = 2$ temos neologismos como *visparedressolearande* ou *marrespareganteirrionárias*, nem o Eça se lembrava destes.\n",
    "\n",
    "Para $n$ cada vez maior, o texto parece cada vez fazer mais sentido, mas mesmo assim no geral não tem lógica absolutamente nenhuma.\n",
    "\n",
    "Começa a tornar-se claro que o texto gerado por Markov Chains não faz sentido absolutamente nenhum. É fácil compreender porquê: Ao gerarmos texto, basicamente estamos a juntar ao acaso vários segmentos de palavras ou caracteres. É como se déssemos um livro a um analfabeto e lhe disséssemos para recortar várias frases e depois colá-las pela ordem que bem entendesse, apenas tendo de obedecer à regra que a última e a primeira palavras de duas frases contíguas têm de coincidir, claro que os resultados não vão ser ótimos, mas pelo menos são engraçados.\n",
    "\n",
    "### Corretor Eça\n",
    "\n",
    "Então mas há alguma aplicação prática de tudo isto? Claro que sim! Os corretores automáticos dos telemóveis têm na sua base uma Markov Chain. Por isso é que há medida que se usa mais o teclado, o corretor automático vai ficando melhor, ele regista aquilo que já escreveste e usa exatamente esta ideia das Markov Chains para tentar prever qual a próxima palavra que vais escrever.\n",
    "\n",
    "Então com base nesta ideia criei num pequeno script um *'corretor automático'* que usa como base a primeira Markov Chain que construímos aqui (palavras, $n = 1$).\n",
    "\n",
    "https://repl.it/repls/StridentSteelblueDoom\n"
   ]
  },
  {
   "cell_type": "markdown",
   "metadata": {},
   "source": [
    "## Conclusão\n",
    "\n",
    "Usar Markov Chains para gerar texto não produz propriamente obras literárias brilhantes, mas de qualquer forma não deixa de ter a sua piada.\n",
    "\n",
    "O que é interessante é que de certa forma o estilo de Eça de Queirós faz-se notar nos textos gerados, pelo que construir uma cadeia com base num determinado texto e gerar um pequeno texto com ela pode ser uma ferramenta útil para compreender melhor o texto em causa."
   ]
  }
 ],
 "metadata": {
  "kernelspec": {
   "display_name": "Python 3",
   "language": "python",
   "name": "python3"
  },
  "language_info": {
   "codemirror_mode": {
    "name": "ipython",
    "version": 3
   },
   "file_extension": ".py",
   "mimetype": "text/x-python",
   "name": "python",
   "nbconvert_exporter": "python",
   "pygments_lexer": "ipython3",
   "version": "3.7.0"
  }
 },
 "nbformat": 4,
 "nbformat_minor": 2
}
